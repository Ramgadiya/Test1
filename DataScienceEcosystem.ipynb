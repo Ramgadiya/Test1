{
 "cells": [
  {
   "cell_type": "markdown",
   "id": "a1aaa194-ca26-4c2b-9019-c50ebefb72a5",
   "metadata": {},
   "source": [
    "# Data Science Tools and Ecosystem #"
   ]
  },
  {
   "cell_type": "markdown",
   "id": "b63e0411-3852-4c1f-a19e-bb3c15bdfd5f",
   "metadata": {},
   "source": [
    "In this notebook, Data Science Tools and Ecosystem are summarized."
   ]
  },
  {
   "cell_type": "markdown",
   "id": "e72b080b-dec5-483b-9373-2ddb712f1a7f",
   "metadata": {},
   "source": [
    "Some of the popular languages that Data Scientists use are:"
   ]
  },
  {
   "cell_type": "markdown",
   "id": "ab4b989d-f539-4c61-a676-24c156810cc0",
   "metadata": {},
   "source": [
    "1. R language\n",
    "2. Julia\n",
    "3. Python"
   ]
  },
  {
   "cell_type": "markdown",
   "id": "c1073098-e9e0-4fa6-84e6-da9c7afa5e41",
   "metadata": {},
   "source": [
    "Some of the commonly used libraries used by Data Scientists include:\n"
   ]
  },
  {
   "cell_type": "markdown",
   "id": "4e6e9695-f858-4c04-86a8-1227bdd9ab97",
   "metadata": {},
   "source": [
    "1. Pandas\n",
    "2.Scipy\n",
    "3. Numpy"
   ]
  },
  {
   "cell_type": "markdown",
   "id": "7c7c650c-ec90-484e-a65d-d259f35458c7",
   "metadata": {},
   "source": [
    "| Data Science Tools |\n",
    "|------------| \n",
    "| Rstudio | \n",
    "| Tensorflow |\n",
    "|Apache Spark |\n"
   ]
  },
  {
   "cell_type": "markdown",
   "id": "5b1659c2-891d-47b0-aa84-69455fd3f097",
   "metadata": {},
   "source": [
    "### Below are a few examples of evaluating arithmetic expressions in Python ###\n",
    "\n"
   ]
  },
  {
   "cell_type": "code",
   "execution_count": 3,
   "id": "eb08eb34-a478-4f43-bff7-063901ca813f",
   "metadata": {},
   "outputs": [
    {
     "data": {
      "text/plain": [
       "17"
      ]
     },
     "execution_count": 3,
     "metadata": {},
     "output_type": "execute_result"
    }
   ],
   "source": [
    "#This a simple arithmetic expression to mutiply then add integers\n",
    "(3*4)+5"
   ]
  },
  {
   "cell_type": "code",
   "execution_count": 4,
   "id": "fb7120a7-1475-4541-b13b-ac140e0ca50c",
   "metadata": {},
   "outputs": [
    {
     "data": {
      "text/plain": [
       "3.3333333333333335"
      ]
     },
     "execution_count": 4,
     "metadata": {},
     "output_type": "execute_result"
    }
   ],
   "source": [
    "#This will convert 200 minutes to hours by diving by 60\n",
    "200/60\n"
   ]
  },
  {
   "cell_type": "markdown",
   "id": "f51cc819-76ee-47e5-8c09-12bec81e6f6b",
   "metadata": {},
   "source": [
    "**Objectives** \n",
    "- List popular languages for Data Science\n",
    "- Python\n",
    "- Julia\n",
    "- SQL"
   ]
  },
  {
   "cell_type": "markdown",
   "id": "40a1becb-1743-4d1d-bc23-b0affc0cee3b",
   "metadata": {},
   "source": [
    "## Author ##\n",
    "Paramjeetkaur"
   ]
  },
  {
   "cell_type": "code",
   "execution_count": null,
   "id": "856c0864-cb4c-42fa-b71c-16c0ff166f36",
   "metadata": {},
   "outputs": [],
   "source": []
  }
 ],
 "metadata": {
  "kernelspec": {
   "display_name": "Python",
   "language": "python",
   "name": "conda-env-python-py"
  },
  "language_info": {
   "codemirror_mode": {
    "name": "ipython",
    "version": 3
   },
   "file_extension": ".py",
   "mimetype": "text/x-python",
   "name": "python",
   "nbconvert_exporter": "python",
   "pygments_lexer": "ipython3",
   "version": "3.7.12"
  }
 },
 "nbformat": 4,
 "nbformat_minor": 5
}
